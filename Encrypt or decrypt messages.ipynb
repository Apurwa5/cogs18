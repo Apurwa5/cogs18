{
 "cells": [
  {
   "cell_type": "code",
   "execution_count": null,
   "metadata": {},
   "outputs": [
    {
     "name": "stdout",
     "output_type": "stream",
     "text": [
      "Do you wish to encrypt or decrypt a message?\n"
     ]
    }
   ],
   "source": [
    "def my_choice():\n",
    "    while True:\n",
    "        print('Do you wish to encrypt or decrypt a message?')\n",
    "        choice = input().lower()\n",
    "        \n",
    "        # choose between encrypt and decrypt \n",
    "        if choice in 'encrypt e decrypt d'.split():\n",
    "            return choice\n",
    "        else:\n",
    "            print('Enter either \"encrypt\" or \"e\" or \"decrypt\" or \"d\"')\n",
    "\n",
    "def my_message():\n",
    "    print('Enter your message:')\n",
    "    return input()\n",
    "\n",
    "def translated(choice,message): \n",
    "    \"\"\"translates the given message with the choice of 'e' or 'd'\n",
    "    \n",
    "    Conditional \n",
    "    -----------\n",
    "    if : encrypts the input message \n",
    "    \n",
    "    else : decrypts the input message\n",
    "    \n",
    "    Returns\n",
    "    -------\n",
    "    answer: string\n",
    "    \n",
    "    prints 'Your translated text is:' and the result of encrypted/decrypted message \n",
    "    \n",
    "    \"\"\"\n",
    "    \n",
    "    #if/else based of the choice from the result of choice funciton \n",
    "    # if for encryption \n",
    "    # else for decryption\n",
    "    if choice == 'e':\n",
    "        new_message=''\n",
    "        alpha = ' abcdefghijklmnopqrstuvwxyz!?,.'\n",
    "        for item in message:\n",
    "            if item in alpha:\n",
    "                \n",
    "                # adds 4 to the index of the letter and assigns that to the new letter \n",
    "                item_index=alpha.index(item)\n",
    "                new_letter_index = item_index + 4  \n",
    "                new_message = new_message + alpha[new_letter_index]\n",
    "            \n",
    "            else:\n",
    "                item=item\n",
    "            \n",
    "    else:\n",
    "        new_message = ''\n",
    "        alpha = ' abcdefghijklmnopqrstuvwxyz!?,.'\n",
    "        for item in message:\n",
    "            if item in alpha:\n",
    "                \n",
    "                #subtracts 4 from the index of the letter and assigns that to the new letter\n",
    "                item_index=alpha.index(item)\n",
    "                new_letter_index = item_index - 4    \n",
    "                new_message = new_message + alpha[new_letter_index]\n",
    "        else:\n",
    "            item=item\n",
    "        \n",
    "    return new_message\n",
    "                  \n",
    "choice = my_choice()\n",
    "message = my_message()\n",
    "new_message = translated(choice,message)\n",
    "print('Your translated text is:')\n",
    "print(translated(choice,message))"
   ]
  }
 ],
 "metadata": {
  "kernelspec": {
   "display_name": "Python 3",
   "language": "python",
   "name": "python3"
  },
  "language_info": {
   "codemirror_mode": {
    "name": "ipython",
    "version": 3
   },
   "file_extension": ".py",
   "mimetype": "text/x-python",
   "name": "python",
   "nbconvert_exporter": "python",
   "pygments_lexer": "ipython3",
   "version": "3.6.7"
  }
 },
 "nbformat": 4,
 "nbformat_minor": 2
}
